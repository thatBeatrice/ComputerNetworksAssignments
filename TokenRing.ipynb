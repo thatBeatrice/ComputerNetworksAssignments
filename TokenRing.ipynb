{
 "cells": [
  {
   "cell_type": "markdown",
   "id": "a40078f5",
   "metadata": {},
   "source": [
    "Token Ring"
   ]
  },
  {
   "cell_type": "code",
   "execution_count": 1,
   "id": "44b5a7d4",
   "metadata": {},
   "outputs": [],
   "source": [
    "from random import randrange"
   ]
  },
  {
   "cell_type": "code",
   "execution_count": 2,
   "id": "e8bc0ce7",
   "metadata": {},
   "outputs": [],
   "source": [
    "def generate_random_IP()->str:\n",
    "    IP = []\n",
    "    for i in range(4):\n",
    "        IP.append(str(randrange(0,255)))\n",
    "    return \".\".join(IP)"
   ]
  },
  {
   "cell_type": "code",
   "execution_count": 3,
   "id": "c5516f41",
   "metadata": {},
   "outputs": [],
   "source": [
    "class Calculator:\n",
    "    IP: str = None\n",
    "    IP_predecessor: str = None\n",
    "    IP_successor: str = None\n",
    "    Buffer: list = []\n",
    "    \n",
    "    def __init__(self):\n",
    "        self.IP = generate_random_IP()\n",
    "    \n",
    "    def set_IP_predecessor(self, new_IP: str)->None:\n",
    "        self.IP_predecessor = new_IP\n",
    "        \n",
    "    def set_IP_successor(self, new_IP: str)->None:\n",
    "        self.IP_successor = new_IP\n",
    "    "
   ]
  },
  {
   "cell_type": "code",
   "execution_count": 4,
   "id": "8a53bd2d",
   "metadata": {},
   "outputs": [],
   "source": [
    "class Token:\n",
    "    IP_source: str = None\n",
    "    IP_destination: str = None\n",
    "    message: str = None\n",
    "    reached_destination: bool = False\n",
    "    busy: bool = True\n",
    "        \n",
    "    def generate_source_destination(self, network: list)->'Token':\n",
    "        source_id = randrange(len(network))\n",
    "        destination_id = source_id\n",
    "\n",
    "        while source_id == destination_id:\n",
    "            destination_id = randrange(len(network))\n",
    "\n",
    "        self.IP_source = network[source_id].IP\n",
    "        self.IP_destination = network[destination_id].IP\n",
    "    \n",
    "        return self\n"
   ]
  },
  {
   "cell_type": "code",
   "execution_count": 5,
   "id": "9f6d7d77",
   "metadata": {},
   "outputs": [],
   "source": [
    "def add_calculators_to_network(calc_number: int)->list:\n",
    "    network = [Calculator() for _ in range(calc_number)]\n",
    "    network[0].Buffer = []\n",
    "    for i in range(1,calc_number):\n",
    "        network[i].set_IP_predecessor(network[i-1].IP)\n",
    "        network[i-1].set_IP_successor(network[i].IP)\n",
    "        network[i].Buffer = []\n",
    "    return network\n",
    "\n",
    "def transmit_message(token: Token, network: list, i: int)->(Token, list):\n",
    "    calculator=network[i]\n",
    "    \n",
    "    while calculator.IP != token.IP_source: #moves to source\n",
    "        print(\"C\",i,\": Moves Token\",sep=\"\")\n",
    "        i = (i + 1) % len(network)\n",
    "        calculator = network[i]\n",
    "        \n",
    "    print(\"C\",i,\": Token received\",sep=\"\")\n",
    "    \n",
    "    while calculator.IP != token.IP_destination: #moves to destination\n",
    "        print(\"C\",i,\": Moves token\",sep=\"\")   \n",
    "        i = (i + 1) % len(network)\n",
    "        calculator = network[i]\n",
    "        \n",
    "    print(\"C\",i,\": Token reached the destination\",sep=\"\")\n",
    "    \n",
    "    token.reached_destination=True\n",
    "    network[i].Buffer.append(token.message)\n",
    "    \n",
    "    while calculator.IP != token.IP_source: #moves back to source\n",
    "        print(\"C\",i,\": Moves token\",sep=\"\")\n",
    "        i = (i + 1) % len(network)\n",
    "        calculator = network[i]\n",
    "        \n",
    "    print(\"C\",i,\": Token is back to source\",sep=\"\")\n",
    "    \n",
    "    return token, network, i\n",
    "\n",
    "def print_network(network: list)->None:\n",
    "    i = 0\n",
    "    for calc in network_test:\n",
    "        print(\"C\",i,\"(\",calc.IP,\") -> \",calc.Buffer,sep=\"\")\n",
    "        i += 1"
   ]
  },
  {
   "cell_type": "code",
   "execution_count": 6,
   "id": "6c7c7f04",
   "metadata": {},
   "outputs": [],
   "source": [
    "def move_token(network_test: list)->None:\n",
    "    i=0\n",
    "    for _ in range(10):\n",
    "        token = Token().generate_source_destination(network_test)\n",
    "        print()\n",
    "        token.message = input(\"Insert message: \")\n",
    "        print()\n",
    "        print(\"Source: \", token.IP_source, \" Destination: \", token.IP_destination,sep=\"\")\n",
    "        print()\n",
    "        token, network_test, i = transmit_message(token, network_test, i)\n",
    "        print()\n",
    "        print_network(network_test)"
   ]
  },
  {
   "cell_type": "code",
   "execution_count": 7,
   "id": "e48642b0",
   "metadata": {},
   "outputs": [
    {
     "name": "stdout",
     "output_type": "stream",
     "text": [
      "C0(179.251.205.141) -> []\n",
      "C1(100.106.130.79) -> []\n",
      "C2(162.237.39.30) -> []\n",
      "C3(175.247.22.235) -> []\n",
      "C4(68.54.179.121) -> []\n",
      "C5(69.73.92.239) -> []\n",
      "C6(110.176.46.68) -> []\n",
      "C7(37.91.58.175) -> []\n",
      "C8(244.94.30.89) -> []\n",
      "C9(210.125.84.1) -> []\n"
     ]
    }
   ],
   "source": [
    "network_test = None\n",
    "network_test = add_calculators_to_network(10)\n",
    "print_network(network_test)"
   ]
  },
  {
   "cell_type": "code",
   "execution_count": 8,
   "id": "fa0c15fc",
   "metadata": {},
   "outputs": [
    {
     "name": "stdout",
     "output_type": "stream",
     "text": [
      "\n"
     ]
    },
    {
     "name": "stdin",
     "output_type": "stream",
     "text": [
      "Insert message:  firstMessage\n"
     ]
    },
    {
     "name": "stdout",
     "output_type": "stream",
     "text": [
      "\n",
      "Source: 69.73.92.239 Destination: 244.94.30.89\n",
      "\n",
      "C0: Moves Token\n",
      "C1: Moves Token\n",
      "C2: Moves Token\n",
      "C3: Moves Token\n",
      "C4: Moves Token\n",
      "C5: Token received\n",
      "C5: Moves token\n",
      "C6: Moves token\n",
      "C7: Moves token\n",
      "C8: Token reached the destination\n",
      "C8: Moves token\n",
      "C9: Moves token\n",
      "C0: Moves token\n",
      "C1: Moves token\n",
      "C2: Moves token\n",
      "C3: Moves token\n",
      "C4: Moves token\n",
      "C5: Token is back to source\n",
      "\n",
      "C0(179.251.205.141) -> []\n",
      "C1(100.106.130.79) -> []\n",
      "C2(162.237.39.30) -> []\n",
      "C3(175.247.22.235) -> []\n",
      "C4(68.54.179.121) -> []\n",
      "C5(69.73.92.239) -> []\n",
      "C6(110.176.46.68) -> []\n",
      "C7(37.91.58.175) -> []\n",
      "C8(244.94.30.89) -> ['firstMessage']\n",
      "C9(210.125.84.1) -> []\n",
      "\n"
     ]
    },
    {
     "name": "stdin",
     "output_type": "stream",
     "text": [
      "Insert message:  secondMessage\n"
     ]
    },
    {
     "name": "stdout",
     "output_type": "stream",
     "text": [
      "\n",
      "Source: 210.125.84.1 Destination: 68.54.179.121\n",
      "\n",
      "C5: Moves Token\n",
      "C6: Moves Token\n",
      "C7: Moves Token\n",
      "C8: Moves Token\n",
      "C9: Token received\n",
      "C9: Moves token\n",
      "C0: Moves token\n",
      "C1: Moves token\n",
      "C2: Moves token\n",
      "C3: Moves token\n",
      "C4: Token reached the destination\n",
      "C4: Moves token\n",
      "C5: Moves token\n",
      "C6: Moves token\n",
      "C7: Moves token\n",
      "C8: Moves token\n",
      "C9: Token is back to source\n",
      "\n",
      "C0(179.251.205.141) -> []\n",
      "C1(100.106.130.79) -> []\n",
      "C2(162.237.39.30) -> []\n",
      "C3(175.247.22.235) -> []\n",
      "C4(68.54.179.121) -> ['secondMessage']\n",
      "C5(69.73.92.239) -> []\n",
      "C6(110.176.46.68) -> []\n",
      "C7(37.91.58.175) -> []\n",
      "C8(244.94.30.89) -> ['firstMessage']\n",
      "C9(210.125.84.1) -> []\n",
      "\n"
     ]
    },
    {
     "name": "stdin",
     "output_type": "stream",
     "text": [
      "Insert message:  thirdMessage\n"
     ]
    },
    {
     "name": "stdout",
     "output_type": "stream",
     "text": [
      "\n",
      "Source: 100.106.130.79 Destination: 68.54.179.121\n",
      "\n",
      "C9: Moves Token\n",
      "C0: Moves Token\n",
      "C1: Token received\n",
      "C1: Moves token\n",
      "C2: Moves token\n",
      "C3: Moves token\n",
      "C4: Token reached the destination\n",
      "C4: Moves token\n",
      "C5: Moves token\n",
      "C6: Moves token\n",
      "C7: Moves token\n",
      "C8: Moves token\n",
      "C9: Moves token\n",
      "C0: Moves token\n",
      "C1: Token is back to source\n",
      "\n",
      "C0(179.251.205.141) -> []\n",
      "C1(100.106.130.79) -> []\n",
      "C2(162.237.39.30) -> []\n",
      "C3(175.247.22.235) -> []\n",
      "C4(68.54.179.121) -> ['secondMessage', 'thirdMessage']\n",
      "C5(69.73.92.239) -> []\n",
      "C6(110.176.46.68) -> []\n",
      "C7(37.91.58.175) -> []\n",
      "C8(244.94.30.89) -> ['firstMessage']\n",
      "C9(210.125.84.1) -> []\n",
      "\n"
     ]
    },
    {
     "name": "stdin",
     "output_type": "stream",
     "text": [
      "Insert message:  fourthMessage\n"
     ]
    },
    {
     "name": "stdout",
     "output_type": "stream",
     "text": [
      "\n",
      "Source: 179.251.205.141 Destination: 244.94.30.89\n",
      "\n",
      "C1: Moves Token\n",
      "C2: Moves Token\n",
      "C3: Moves Token\n",
      "C4: Moves Token\n",
      "C5: Moves Token\n",
      "C6: Moves Token\n",
      "C7: Moves Token\n",
      "C8: Moves Token\n",
      "C9: Moves Token\n",
      "C0: Token received\n",
      "C0: Moves token\n",
      "C1: Moves token\n",
      "C2: Moves token\n",
      "C3: Moves token\n",
      "C4: Moves token\n",
      "C5: Moves token\n",
      "C6: Moves token\n",
      "C7: Moves token\n",
      "C8: Token reached the destination\n",
      "C8: Moves token\n",
      "C9: Moves token\n",
      "C0: Token is back to source\n",
      "\n",
      "C0(179.251.205.141) -> []\n",
      "C1(100.106.130.79) -> []\n",
      "C2(162.237.39.30) -> []\n",
      "C3(175.247.22.235) -> []\n",
      "C4(68.54.179.121) -> ['secondMessage', 'thirdMessage']\n",
      "C5(69.73.92.239) -> []\n",
      "C6(110.176.46.68) -> []\n",
      "C7(37.91.58.175) -> []\n",
      "C8(244.94.30.89) -> ['firstMessage', 'fourthMessage']\n",
      "C9(210.125.84.1) -> []\n",
      "\n"
     ]
    },
    {
     "name": "stdin",
     "output_type": "stream",
     "text": [
      "Insert message:  fifthMessage\n"
     ]
    },
    {
     "name": "stdout",
     "output_type": "stream",
     "text": [
      "\n",
      "Source: 69.73.92.239 Destination: 37.91.58.175\n",
      "\n",
      "C0: Moves Token\n",
      "C1: Moves Token\n",
      "C2: Moves Token\n",
      "C3: Moves Token\n",
      "C4: Moves Token\n",
      "C5: Token received\n",
      "C5: Moves token\n",
      "C6: Moves token\n",
      "C7: Token reached the destination\n",
      "C7: Moves token\n",
      "C8: Moves token\n",
      "C9: Moves token\n",
      "C0: Moves token\n",
      "C1: Moves token\n",
      "C2: Moves token\n",
      "C3: Moves token\n",
      "C4: Moves token\n",
      "C5: Token is back to source\n",
      "\n",
      "C0(179.251.205.141) -> []\n",
      "C1(100.106.130.79) -> []\n",
      "C2(162.237.39.30) -> []\n",
      "C3(175.247.22.235) -> []\n",
      "C4(68.54.179.121) -> ['secondMessage', 'thirdMessage']\n",
      "C5(69.73.92.239) -> []\n",
      "C6(110.176.46.68) -> []\n",
      "C7(37.91.58.175) -> ['fifthMessage']\n",
      "C8(244.94.30.89) -> ['firstMessage', 'fourthMessage']\n",
      "C9(210.125.84.1) -> []\n",
      "\n"
     ]
    },
    {
     "name": "stdin",
     "output_type": "stream",
     "text": [
      "Insert message:  sixthMessage\n"
     ]
    },
    {
     "name": "stdout",
     "output_type": "stream",
     "text": [
      "\n",
      "Source: 244.94.30.89 Destination: 37.91.58.175\n",
      "\n",
      "C5: Moves Token\n",
      "C6: Moves Token\n",
      "C7: Moves Token\n",
      "C8: Token received\n",
      "C8: Moves token\n",
      "C9: Moves token\n",
      "C0: Moves token\n",
      "C1: Moves token\n",
      "C2: Moves token\n",
      "C3: Moves token\n",
      "C4: Moves token\n",
      "C5: Moves token\n",
      "C6: Moves token\n",
      "C7: Token reached the destination\n",
      "C7: Moves token\n",
      "C8: Token is back to source\n",
      "\n",
      "C0(179.251.205.141) -> []\n",
      "C1(100.106.130.79) -> []\n",
      "C2(162.237.39.30) -> []\n",
      "C3(175.247.22.235) -> []\n",
      "C4(68.54.179.121) -> ['secondMessage', 'thirdMessage']\n",
      "C5(69.73.92.239) -> []\n",
      "C6(110.176.46.68) -> []\n",
      "C7(37.91.58.175) -> ['fifthMessage', 'sixthMessage']\n",
      "C8(244.94.30.89) -> ['firstMessage', 'fourthMessage']\n",
      "C9(210.125.84.1) -> []\n",
      "\n"
     ]
    },
    {
     "name": "stdin",
     "output_type": "stream",
     "text": [
      "Insert message:  seventhMessage\n"
     ]
    },
    {
     "name": "stdout",
     "output_type": "stream",
     "text": [
      "\n",
      "Source: 100.106.130.79 Destination: 175.247.22.235\n",
      "\n",
      "C8: Moves Token\n",
      "C9: Moves Token\n",
      "C0: Moves Token\n",
      "C1: Token received\n",
      "C1: Moves token\n",
      "C2: Moves token\n",
      "C3: Token reached the destination\n",
      "C3: Moves token\n",
      "C4: Moves token\n",
      "C5: Moves token\n",
      "C6: Moves token\n",
      "C7: Moves token\n",
      "C8: Moves token\n",
      "C9: Moves token\n",
      "C0: Moves token\n",
      "C1: Token is back to source\n",
      "\n",
      "C0(179.251.205.141) -> []\n",
      "C1(100.106.130.79) -> []\n",
      "C2(162.237.39.30) -> []\n",
      "C3(175.247.22.235) -> ['seventhMessage']\n",
      "C4(68.54.179.121) -> ['secondMessage', 'thirdMessage']\n",
      "C5(69.73.92.239) -> []\n",
      "C6(110.176.46.68) -> []\n",
      "C7(37.91.58.175) -> ['fifthMessage', 'sixthMessage']\n",
      "C8(244.94.30.89) -> ['firstMessage', 'fourthMessage']\n",
      "C9(210.125.84.1) -> []\n",
      "\n"
     ]
    },
    {
     "name": "stdin",
     "output_type": "stream",
     "text": [
      "Insert message:  eighthMessage\n"
     ]
    },
    {
     "name": "stdout",
     "output_type": "stream",
     "text": [
      "\n",
      "Source: 69.73.92.239 Destination: 210.125.84.1\n",
      "\n",
      "C1: Moves Token\n",
      "C2: Moves Token\n",
      "C3: Moves Token\n",
      "C4: Moves Token\n",
      "C5: Token received\n",
      "C5: Moves token\n",
      "C6: Moves token\n",
      "C7: Moves token\n",
      "C8: Moves token\n",
      "C9: Token reached the destination\n",
      "C9: Moves token\n",
      "C0: Moves token\n",
      "C1: Moves token\n",
      "C2: Moves token\n",
      "C3: Moves token\n",
      "C4: Moves token\n",
      "C5: Token is back to source\n",
      "\n",
      "C0(179.251.205.141) -> []\n",
      "C1(100.106.130.79) -> []\n",
      "C2(162.237.39.30) -> []\n",
      "C3(175.247.22.235) -> ['seventhMessage']\n",
      "C4(68.54.179.121) -> ['secondMessage', 'thirdMessage']\n",
      "C5(69.73.92.239) -> []\n",
      "C6(110.176.46.68) -> []\n",
      "C7(37.91.58.175) -> ['fifthMessage', 'sixthMessage']\n",
      "C8(244.94.30.89) -> ['firstMessage', 'fourthMessage']\n",
      "C9(210.125.84.1) -> ['eighthMessage']\n",
      "\n"
     ]
    },
    {
     "name": "stdin",
     "output_type": "stream",
     "text": [
      "Insert message:  ninthMessage\n"
     ]
    },
    {
     "name": "stdout",
     "output_type": "stream",
     "text": [
      "\n",
      "Source: 68.54.179.121 Destination: 100.106.130.79\n",
      "\n",
      "C5: Moves Token\n",
      "C6: Moves Token\n",
      "C7: Moves Token\n",
      "C8: Moves Token\n",
      "C9: Moves Token\n",
      "C0: Moves Token\n",
      "C1: Moves Token\n",
      "C2: Moves Token\n",
      "C3: Moves Token\n",
      "C4: Token received\n",
      "C4: Moves token\n",
      "C5: Moves token\n",
      "C6: Moves token\n",
      "C7: Moves token\n",
      "C8: Moves token\n",
      "C9: Moves token\n",
      "C0: Moves token\n",
      "C1: Token reached the destination\n",
      "C1: Moves token\n",
      "C2: Moves token\n",
      "C3: Moves token\n",
      "C4: Token is back to source\n",
      "\n",
      "C0(179.251.205.141) -> []\n",
      "C1(100.106.130.79) -> ['ninthMessage']\n",
      "C2(162.237.39.30) -> []\n",
      "C3(175.247.22.235) -> ['seventhMessage']\n",
      "C4(68.54.179.121) -> ['secondMessage', 'thirdMessage']\n",
      "C5(69.73.92.239) -> []\n",
      "C6(110.176.46.68) -> []\n",
      "C7(37.91.58.175) -> ['fifthMessage', 'sixthMessage']\n",
      "C8(244.94.30.89) -> ['firstMessage', 'fourthMessage']\n",
      "C9(210.125.84.1) -> ['eighthMessage']\n",
      "\n"
     ]
    },
    {
     "name": "stdin",
     "output_type": "stream",
     "text": [
      "Insert message:  tenthMessage\n"
     ]
    },
    {
     "name": "stdout",
     "output_type": "stream",
     "text": [
      "\n",
      "Source: 162.237.39.30 Destination: 69.73.92.239\n",
      "\n",
      "C4: Moves Token\n",
      "C5: Moves Token\n",
      "C6: Moves Token\n",
      "C7: Moves Token\n",
      "C8: Moves Token\n",
      "C9: Moves Token\n",
      "C0: Moves Token\n",
      "C1: Moves Token\n",
      "C2: Token received\n",
      "C2: Moves token\n",
      "C3: Moves token\n",
      "C4: Moves token\n",
      "C5: Token reached the destination\n",
      "C5: Moves token\n",
      "C6: Moves token\n",
      "C7: Moves token\n",
      "C8: Moves token\n",
      "C9: Moves token\n",
      "C0: Moves token\n",
      "C1: Moves token\n",
      "C2: Token is back to source\n",
      "\n",
      "C0(179.251.205.141) -> []\n",
      "C1(100.106.130.79) -> ['ninthMessage']\n",
      "C2(162.237.39.30) -> []\n",
      "C3(175.247.22.235) -> ['seventhMessage']\n",
      "C4(68.54.179.121) -> ['secondMessage', 'thirdMessage']\n",
      "C5(69.73.92.239) -> ['tenthMessage']\n",
      "C6(110.176.46.68) -> []\n",
      "C7(37.91.58.175) -> ['fifthMessage', 'sixthMessage']\n",
      "C8(244.94.30.89) -> ['firstMessage', 'fourthMessage']\n",
      "C9(210.125.84.1) -> ['eighthMessage']\n"
     ]
    }
   ],
   "source": [
    "move_token(network_test)"
   ]
  },
  {
   "cell_type": "code",
   "execution_count": null,
   "id": "c43e5599",
   "metadata": {},
   "outputs": [],
   "source": []
  }
 ],
 "metadata": {
  "kernelspec": {
   "display_name": "Python 3 (ipykernel)",
   "language": "python",
   "name": "python3"
  },
  "language_info": {
   "codemirror_mode": {
    "name": "ipython",
    "version": 3
   },
   "file_extension": ".py",
   "mimetype": "text/x-python",
   "name": "python",
   "nbconvert_exporter": "python",
   "pygments_lexer": "ipython3",
   "version": "3.11.5"
  }
 },
 "nbformat": 4,
 "nbformat_minor": 5
}
